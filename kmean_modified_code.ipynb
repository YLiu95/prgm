{
  "nbformat": 4,
  "nbformat_minor": 0,
  "metadata": {
    "colab": {
      "provenance": [],
      "toc_visible": true,
      "authorship_tag": "ABX9TyNmlTAHsrkMG6dwi80iTdJD",
      "include_colab_link": true
    },
    "kernelspec": {
      "name": "python3",
      "display_name": "Python 3"
    },
    "language_info": {
      "name": "python"
    }
  },
  "cells": [
    {
      "cell_type": "markdown",
      "metadata": {
        "id": "view-in-github",
        "colab_type": "text"
      },
      "source": [
        "<a href=\"https://colab.research.google.com/github/YLiu95/prgm/blob/main/kmean_modified_code.ipynb\" target=\"_parent\"><img src=\"https://colab.research.google.com/assets/colab-badge.svg\" alt=\"Open In Colab\"/></a>"
      ]
    },
    {
      "cell_type": "markdown",
      "metadata": {
        "id": "RRBFfRhWv9td"
      },
      "source": [
        "## original code"
      ]
    },
    {
      "cell_type": "code",
      "metadata": {
        "id": "03q-x5sVvqo0"
      },
      "source": [
        "import matplotlib.pyplot as plt\n",
        "import numpy as np\n",
        "\n",
        "np.random.seed(42)\n",
        "\n",
        "\n",
        "def euclidean_distance(x1, x2):\n",
        "    return np.sqrt(np.sum((x1 - x2) ** 2))\n",
        "\n",
        "\n",
        "class KMeans:\n",
        "    def __init__(self, K=5, max_iters=100, plot_steps=False):\n",
        "        self.K = K\n",
        "        self.max_iters = max_iters\n",
        "        self.plot_steps = plot_steps\n",
        "\n",
        "        # list of sample indices for each cluster\n",
        "        self.clusters = [[] for _ in range(self.K)]\n",
        "        # the centers (mean feature vector) for each cluster\n",
        "        self.centroids = []\n",
        "\n",
        "    def predict(self, X):\n",
        "        self.X = X\n",
        "        self.n_samples, self.n_features = X.shape\n",
        "\n",
        "        # initialize\n",
        "        random_sample_idxs = np.random.choice(self.n_samples, self.K, replace=False)\n",
        "        self.centroids = [self.X[idx] for idx in random_sample_idxs]\n",
        "\n",
        "        # Optimize clusters\n",
        "        for _ in range(self.max_iters):\n",
        "            # Assign samples to closest centroids (create clusters)\n",
        "            self.clusters = self._create_clusters(self.centroids)\n",
        "\n",
        "            if self.plot_steps:\n",
        "                self.plot()\n",
        "\n",
        "            # Calculate new centroids from the clusters\n",
        "            centroids_old = self.centroids\n",
        "            self.centroids = self._get_centroids(self.clusters)\n",
        "\n",
        "            # check if clusters have changed\n",
        "            if self._is_converged(centroids_old, self.centroids):\n",
        "                break\n",
        "\n",
        "            if self.plot_steps:\n",
        "                self.plot()\n",
        "\n",
        "        # Classify samples as the index of their clusters\n",
        "        return self._get_cluster_labels(self.clusters)\n",
        "\n",
        "    def _get_cluster_labels(self, clusters):\n",
        "        # each sample will get the label of the cluster it was assigned to\n",
        "        labels = np.empty(self.n_samples)\n",
        "\n",
        "        for cluster_idx, cluster in enumerate(clusters):\n",
        "            for sample_index in cluster:\n",
        "                labels[sample_index] = cluster_idx\n",
        "        return labels\n",
        "\n",
        "    def _create_clusters(self, centroids):\n",
        "        # Assign the samples to the closest centroids to create clusters\n",
        "        clusters = [[] for _ in range(self.K)]\n",
        "        for idx, sample in enumerate(self.X):\n",
        "            centroid_idx = self._closest_centroid(sample, centroids)\n",
        "            clusters[centroid_idx].append(idx)\n",
        "        return clusters\n",
        "\n",
        "    def _closest_centroid(self, sample, centroids):\n",
        "        # distance of the current sample to each centroid\n",
        "        distances = [euclidean_distance(sample, point) for point in centroids]\n",
        "        closest_index = np.argmin(distances)\n",
        "        return closest_index\n",
        "\n",
        "    def _get_centroids(self, clusters):\n",
        "        # assign mean value of clusters to centroids\n",
        "        centroids = np.zeros((self.K, self.n_features))\n",
        "        for cluster_idx, cluster in enumerate(clusters):\n",
        "            cluster_mean = np.mean(self.X[cluster], axis=0)\n",
        "            centroids[cluster_idx] = cluster_mean\n",
        "        return centroids\n",
        "\n",
        "    def _is_converged(self, centroids_old, centroids):\n",
        "        # distances between each old and new centroids, fol all centroids\n",
        "        distances = [\n",
        "            euclidean_distance(centroids_old[i], centroids[i]) for i in range(self.K)\n",
        "        ]\n",
        "        return sum(distances) == 0\n",
        "\n",
        "    def plot(self):\n",
        "        fig, ax = plt.subplots(figsize=(12, 8))\n",
        "\n",
        "        for i, index in enumerate(self.clusters):\n",
        "            point = self.X[index].T\n",
        "            ax.scatter(*point)\n",
        "\n",
        "        for point in self.centroids:\n",
        "            ax.scatter(*point, marker=\"x\", color=\"black\", linewidth=2)\n",
        "\n",
        "        plt.show()\n",
        "\n",
        "\n",
        "# Testing\n",
        "if __name__ == \"__main__\":\n",
        "    from sklearn.datasets import make_blobs\n",
        "\n",
        "    X, y = make_blobs(\n",
        "        centers=3, n_samples=500, n_features=2, shuffle=True, random_state=40\n",
        "    )\n",
        "    print(X.shape)\n",
        "\n",
        "    clusters = len(np.unique(y))\n",
        "    print(clusters)\n",
        "\n",
        "    k = KMeans(K=clusters, max_iters=150, plot_steps=True)\n",
        "    y_pred = k.predict(X)\n",
        "\n",
        "    k.plot()"
      ],
      "execution_count": null,
      "outputs": []
    },
    {
      "cell_type": "markdown",
      "metadata": {
        "id": "6krS_A2Av1yQ"
      },
      "source": [
        "## modification"
      ]
    },
    {
      "cell_type": "markdown",
      "metadata": {
        "id": "UoV58OQV9EEs"
      },
      "source": [
        "###iris data"
      ]
    },
    {
      "cell_type": "code",
      "metadata": {
        "id": "nUhRCeoo9Vmv"
      },
      "source": [
        "from sklearn.datasets import load_iris\n",
        "iris = load_iris()\n",
        "print(iris.DESCR)\n",
        "\n",
        "import csv\n",
        "with open('iris.csv', 'w', newline='') as csvfile:\n",
        "    writer = csv.writer(csvfile, quoting=csv.QUOTE_NONNUMERIC)\n",
        "    writer.writerow(iris.feature_names)\n",
        "    writer.writerows(iris.data.tolist())"
      ],
      "execution_count": null,
      "outputs": []
    },
    {
      "cell_type": "code",
      "metadata": {
        "colab": {
          "base_uri": "https://localhost:8080/",
          "height": 202
        },
        "id": "SyoLXfRl9i-G",
        "outputId": "a74e8b23-a4ac-4725-f113-5fc0f47015eb"
      },
      "source": [
        "import pandas as pd\n",
        "iris = pd.read_csv('iris.csv')\n",
        "iris.head()"
      ],
      "execution_count": null,
      "outputs": [
        {
          "output_type": "execute_result",
          "data": {
            "text/html": [
              "<div>\n",
              "<style scoped>\n",
              "    .dataframe tbody tr th:only-of-type {\n",
              "        vertical-align: middle;\n",
              "    }\n",
              "\n",
              "    .dataframe tbody tr th {\n",
              "        vertical-align: top;\n",
              "    }\n",
              "\n",
              "    .dataframe thead th {\n",
              "        text-align: right;\n",
              "    }\n",
              "</style>\n",
              "<table border=\"1\" class=\"dataframe\">\n",
              "  <thead>\n",
              "    <tr style=\"text-align: right;\">\n",
              "      <th></th>\n",
              "      <th>sepal length (cm)</th>\n",
              "      <th>sepal width (cm)</th>\n",
              "      <th>petal length (cm)</th>\n",
              "      <th>petal width (cm)</th>\n",
              "    </tr>\n",
              "  </thead>\n",
              "  <tbody>\n",
              "    <tr>\n",
              "      <th>0</th>\n",
              "      <td>5.1</td>\n",
              "      <td>3.5</td>\n",
              "      <td>1.4</td>\n",
              "      <td>0.2</td>\n",
              "    </tr>\n",
              "    <tr>\n",
              "      <th>1</th>\n",
              "      <td>4.9</td>\n",
              "      <td>3.0</td>\n",
              "      <td>1.4</td>\n",
              "      <td>0.2</td>\n",
              "    </tr>\n",
              "    <tr>\n",
              "      <th>2</th>\n",
              "      <td>4.7</td>\n",
              "      <td>3.2</td>\n",
              "      <td>1.3</td>\n",
              "      <td>0.2</td>\n",
              "    </tr>\n",
              "    <tr>\n",
              "      <th>3</th>\n",
              "      <td>4.6</td>\n",
              "      <td>3.1</td>\n",
              "      <td>1.5</td>\n",
              "      <td>0.2</td>\n",
              "    </tr>\n",
              "    <tr>\n",
              "      <th>4</th>\n",
              "      <td>5.0</td>\n",
              "      <td>3.6</td>\n",
              "      <td>1.4</td>\n",
              "      <td>0.2</td>\n",
              "    </tr>\n",
              "  </tbody>\n",
              "</table>\n",
              "</div>"
            ],
            "text/plain": [
              "   sepal length (cm)  sepal width (cm)  petal length (cm)  petal width (cm)\n",
              "0                5.1               3.5                1.4               0.2\n",
              "1                4.9               3.0                1.4               0.2\n",
              "2                4.7               3.2                1.3               0.2\n",
              "3                4.6               3.1                1.5               0.2\n",
              "4                5.0               3.6                1.4               0.2"
            ]
          },
          "metadata": {},
          "execution_count": 11
        }
      ]
    },
    {
      "cell_type": "markdown",
      "metadata": {
        "id": "9enccd1TAPBp"
      },
      "source": [
        "### load iris data without using CSV"
      ]
    },
    {
      "cell_type": "code",
      "metadata": {
        "id": "anpnXrnAzTmV",
        "colab": {
          "base_uri": "https://localhost:8080/",
          "height": 202
        },
        "outputId": "a2c355d7-6081-469d-a64a-1a2567464f3b"
      },
      "source": [
        "import pandas as pd\n",
        "from sklearn.datasets import load_iris\n",
        "data = load_iris()\n",
        "iris = pd.DataFrame(data.data, columns=data.feature_names)\n",
        "iris['target'] = pd.Series(data.target)\n",
        "iris.head()"
      ],
      "execution_count": null,
      "outputs": [
        {
          "output_type": "execute_result",
          "data": {
            "text/html": [
              "<div>\n",
              "<style scoped>\n",
              "    .dataframe tbody tr th:only-of-type {\n",
              "        vertical-align: middle;\n",
              "    }\n",
              "\n",
              "    .dataframe tbody tr th {\n",
              "        vertical-align: top;\n",
              "    }\n",
              "\n",
              "    .dataframe thead th {\n",
              "        text-align: right;\n",
              "    }\n",
              "</style>\n",
              "<table border=\"1\" class=\"dataframe\">\n",
              "  <thead>\n",
              "    <tr style=\"text-align: right;\">\n",
              "      <th></th>\n",
              "      <th>sepal length (cm)</th>\n",
              "      <th>sepal width (cm)</th>\n",
              "      <th>petal length (cm)</th>\n",
              "      <th>petal width (cm)</th>\n",
              "      <th>target</th>\n",
              "    </tr>\n",
              "  </thead>\n",
              "  <tbody>\n",
              "    <tr>\n",
              "      <th>0</th>\n",
              "      <td>5.1</td>\n",
              "      <td>3.5</td>\n",
              "      <td>1.4</td>\n",
              "      <td>0.2</td>\n",
              "      <td>0</td>\n",
              "    </tr>\n",
              "    <tr>\n",
              "      <th>1</th>\n",
              "      <td>4.9</td>\n",
              "      <td>3.0</td>\n",
              "      <td>1.4</td>\n",
              "      <td>0.2</td>\n",
              "      <td>0</td>\n",
              "    </tr>\n",
              "    <tr>\n",
              "      <th>2</th>\n",
              "      <td>4.7</td>\n",
              "      <td>3.2</td>\n",
              "      <td>1.3</td>\n",
              "      <td>0.2</td>\n",
              "      <td>0</td>\n",
              "    </tr>\n",
              "    <tr>\n",
              "      <th>3</th>\n",
              "      <td>4.6</td>\n",
              "      <td>3.1</td>\n",
              "      <td>1.5</td>\n",
              "      <td>0.2</td>\n",
              "      <td>0</td>\n",
              "    </tr>\n",
              "    <tr>\n",
              "      <th>4</th>\n",
              "      <td>5.0</td>\n",
              "      <td>3.6</td>\n",
              "      <td>1.4</td>\n",
              "      <td>0.2</td>\n",
              "      <td>0</td>\n",
              "    </tr>\n",
              "  </tbody>\n",
              "</table>\n",
              "</div>"
            ],
            "text/plain": [
              "   sepal length (cm)  sepal width (cm)  ...  petal width (cm)  target\n",
              "0                5.1               3.5  ...               0.2       0\n",
              "1                4.9               3.0  ...               0.2       0\n",
              "2                4.7               3.2  ...               0.2       0\n",
              "3                4.6               3.1  ...               0.2       0\n",
              "4                5.0               3.6  ...               0.2       0\n",
              "\n",
              "[5 rows x 5 columns]"
            ]
          },
          "metadata": {},
          "execution_count": 9
        }
      ]
    },
    {
      "cell_type": "markdown",
      "metadata": {
        "id": "uD0xD-UE8_1c"
      },
      "source": [
        "###randomly generated data"
      ]
    },
    {
      "cell_type": "code",
      "metadata": {
        "colab": {
          "base_uri": "https://localhost:8080/",
          "height": 317
        },
        "id": "srOOb-Y8yk_f",
        "outputId": "dfaeefb5-b1b0-4f65-811a-4107f545c27f"
      },
      "source": [
        "# generate data for the implimentation\n",
        "from sklearn.datasets import make_blobs\n",
        "import matplotlib.pyplot as plt\n",
        "import numpy as np\n",
        "\n",
        "X, y = make_blobs(\n",
        "    centers=3, n_samples=777, n_features=2, shuffle=True, random_state=95\n",
        ")\n",
        "print('shape of X: ', X.shape)\n",
        "\n",
        "clusters = len(np.unique(y))\n",
        "print('number of clusters: ', clusters)\n",
        "\n",
        "# display the data\n",
        "plt.scatter(X[:,0], X[:,1])"
      ],
      "execution_count": null,
      "outputs": [
        {
          "output_type": "stream",
          "name": "stdout",
          "text": [
            "shape of X:  (777, 2)\n",
            "number of clusters:  3\n"
          ]
        },
        {
          "output_type": "execute_result",
          "data": {
            "text/plain": [
              "<matplotlib.collections.PathCollection at 0x7fd6c595b750>"
            ]
          },
          "metadata": {},
          "execution_count": 1
        },
        {
          "output_type": "display_data",
          "data": {
            "image/png": "[encoded data removed]",
            "text/plain": [
              "<Figure size 432x288 with 1 Axes>"
            ]
          },
          "metadata": {
            "needs_background": "light"
          }
        }
      ]
    },
    {
      "cell_type": "markdown",
      "metadata": {
        "id": "g7ZVb0OVwJlU"
      },
      "source": [
        "## Task 3: Create a test harness\n",
        "Start preparing your implementation by first setting up a test (without having an implementation just yet!). In this way, you will follow a _test-driven development_ approach. As part of this work, you may choose to compare to a reference implementation, like the one shown in the below code example.\n",
        "> Marking information: Up to 20 points: identify suitable unit tests and integration tests. Explain what coverage you expect your test suite to have."
      ]
    },
    {
      "cell_type": "code",
      "metadata": {
        "colab": {
          "base_uri": "https://localhost:8080/"
        },
        "id": "5YNgBncywkcZ",
        "outputId": "bb0c672d-3fdf-407d-ac23-d1a4feef755f"
      },
      "source": [
        "# create a reference implementation for comparesion\n",
        "from sklearn.cluster import KMeans\n",
        "\n",
        "kmeans = KMeans(n_clusters= clusters)\n",
        "kmeans.fit(X, y)\n",
        "\n",
        "print('lables: ', np.unique(kmeans.labels_))\n",
        "print('cluster centers:\\n', kmeans.cluster_centers_)"
      ],
      "execution_count": null,
      "outputs": [
        {
          "output_type": "stream",
          "name": "stdout",
          "text": [
            "lables:  [0 1 2]\n",
            "cluster centers:\n",
            " [[ 0.64613649  7.42613444]\n",
            " [-5.39126545 -6.16570026]\n",
            " [ 7.72439802  4.25701372]]\n"
          ]
        }
      ]
    },
    {
      "cell_type": "code",
      "metadata": {
        "id": "Gpe_FrHnfHC3"
      },
      "source": [
        "# unit test the function euclidean_distance\n",
        "def test_euclidean_distance():\n",
        "    eu1 = euclidean_distance(1,2)\n",
        "    assert(eu1 == 1)\n",
        "    eu2 = euclidean_distance(1,1)\n",
        "    assert(eu2 == 0)\n",
        "    eu3 = euclidean_distance(2,1)\n",
        "    assert(eu3 == 1)\n",
        "\n",
        "test_euclidean_distance()"
      ],
      "execution_count": null,
      "outputs": []
    },
    {
      "cell_type": "code",
      "metadata": {
        "id": "IJBHS_4yuBJ9"
      },
      "source": [
        "# integration test to see if the number of clusters are correct.\n",
        "def test_clusters():\n",
        "    k1 = KMeans(K=clusters, max_iters=77, plot_steps=False)\n",
        "    assert(len(k1.clusters) == clusters)\n",
        "    k2 = KMeans(K=clusters, max_iters=77, plot_steps=True)\n",
        "    assert(len(k2.clusters) == clusters)\n",
        "    k3 = KMeans(K=clusters, max_iters=95, plot_steps=False)\n",
        "    assert(len(k3.clusters) == clusters)\n",
        "\n",
        "test_clusters()"
      ],
      "execution_count": null,
      "outputs": []
    },
    {
      "cell_type": "code",
      "metadata": {
        "id": "hWYOtAETmzZD"
      },
      "source": [
        "# integration test to see if the centroids are the same \n",
        "# compare to the refernce implementation using assert function\n",
        "def test_assert_centroids():\n",
        "    for i in range(6):\n",
        "        assert(\"{0:.2f}\".format(np.sort(kmeans.cluster_centers_, axis=0).flatten()[i]) == \n",
        "            \"{0:.2f}\".format(np.sort(k.centroids, axis=0).flatten()[i]))\n",
        "\n",
        "test_assert_centroids()"
      ],
      "execution_count": null,
      "outputs": []
    },
    {
      "cell_type": "code",
      "metadata": {
        "colab": {
          "base_uri": "https://localhost:8080/"
        },
        "id": "sgutU16PjwdV",
        "outputId": "a86b7870-30e3-422e-cd21-466bf91a262b"
      },
      "source": [
        "# integration test to see if the centroids are the same \n",
        "# compare to the refernce implementation using assert function using unittest\n",
        "import unittest\n",
        "\n",
        "class test_Kmeans_centroids(unittest.TestCase):\n",
        "    def test_unittest_centroids(self):\n",
        "        k1 = KMeans(K=clusters, max_iters=77, plot_steps=False)\n",
        "        for i in range(6):\n",
        "            self.assertAlmostEqual(np.sort(kmeans.cluster_centers_, axis=0).flatten()[i], \n",
        "                               np.sort(k.centroids, axis=0).flatten()[i])\n",
        "\n",
        "if __name__ == '__main__':\n",
        "    # When not using Jupyter notebooks:\n",
        "    # unittest.main()\n",
        "    # In Jupyter notebooks use this:\n",
        "    unittest.main(argv=['this-is-ignored'], exit=False)"
      ],
      "execution_count": null,
      "outputs": [
        {
          "output_type": "stream",
          "name": "stderr",
          "text": [
            ".\n",
            "----------------------------------------------------------------------\n",
            "Ran 1 test in 0.001s\n",
            "\n",
            "OK\n"
          ]
        }
      ]
    },
    {
      "cell_type": "code",
      "metadata": {
        "id": "_d3D_qfJYTlj"
      },
      "source": [
        "def integration_test():\n",
        "    k1 = KMeans(K=clusters, max_iters=77, plot_steps=False)\n",
        "    assert(len(k1.predict(X)) == 777)\n",
        "    assert(len(k1.clusters) == clusters)\n",
        "\n",
        "integration_test()"
      ],
      "execution_count": null,
      "outputs": []
    },
    {
      "cell_type": "markdown",
      "metadata": {
        "id": "JRZrWx2hwPLA"
      },
      "source": [
        "## Task 4: Implement k-means clustering in Python\n",
        "You are now set to actually add the implementation. \n",
        "\n",
        "- Note that you are expected to **fully implement the mathematical operations** instead of using a library function such as `scikit` or `statsmodels`. \n",
        "\n",
        "- Your implementation may make several **assumptions about the inputs** provided to it. Make those explicit in comments. \n",
        "\n",
        "- Also, provide an estimate on how long execution of your algorithm will take dependent on the input values. Express this estimate as a function of the inputs, such as the number of clusters and/or the number of data points.\n",
        "> Marking information: Up to 50 points: 30 points for a correctly working Python implementation, 10 points for describing limitations and assumptions of your implementation, and 10 points for a description of the complexity of your algorithm."
      ]
    },
    {
      "cell_type": "markdown",
      "metadata": {
        "id": "WyYlICbrKbrv"
      },
      "source": [
        "###Run the implementation"
      ]
    },
    {
      "cell_type": "code",
      "metadata": {
        "id": "bLHwqSNNyO0T",
        "colab": {
          "base_uri": "https://localhost:8080/",
          "height": 352
        },
        "outputId": "cb849c62-ef62-4791-904e-ebc92df01b6c"
      },
      "source": [
        "# run the implementation\n",
        "if __name__ == \"__main__\":   \n",
        "    k = KMeans(K=clusters, max_iters=77, plot_steps=False)\n",
        "    y_pred = k.predict(X)\n",
        "\n",
        "    k.plot()\n",
        "    print('cluster centers:\\n', k.centroids)\n",
        "    print('number of clusters: ', len(k.clusters))"
      ],
      "execution_count": null,
      "outputs": [
        {
          "output_type": "display_data",
          "data": {
            "image/png": "[encoded data removed]",
            "text/plain": [
              "<Figure size 432x288 with 1 Axes>"
            ]
          },
          "metadata": {
            "needs_background": "light"
          }
        },
        {
          "output_type": "stream",
          "name": "stdout",
          "text": [
            "cluster centers:\n",
            " [[-5.39126545 -6.16570026]\n",
            " [ 0.64613649  7.42613444]\n",
            " [ 7.72439802  4.25701372]]\n",
            "number of clusters:  3\n"
          ]
        }
      ]
    },
    {
      "cell_type": "code",
      "metadata": {
        "id": "nb6O1KGTt5XN"
      },
      "source": [
        "import time\n",
        "\n",
        "sample_size = [10**s for s in range(1, 6)]\n",
        "\n",
        "constant_times = []\n",
        "\n",
        "for s in sample_size:\n",
        "  X, y = make_blobs(\n",
        "    centers=3, n_samples=s, n_features=2, shuffle=True, random_state=95\n",
        ")\n",
        "  \n",
        "  tic = time.clock()\n",
        "  if __name__ == \"__main__\":   \n",
        "    k = KMeans(K=clusters, max_iters=77, plot_steps=False)\n",
        "    y_pred = k.predict(X)\n",
        "\n",
        "    k.plot()\n",
        "    print('cluster centers:\\n', k.centroids)\n",
        "    print('number of clusters: ', len(k.clusters))\n",
        "  toc = time.clock()\n",
        "  \n",
        "  constant_times.append(toc-tic)\n",
        "\n",
        "import pandas as pd\n",
        "time = pd.DataFrame(list(zip(sample_size, constant_times)), \n",
        "                    columns=['sample size', 'time'])\n",
        "time"
      ],
      "execution_count": null,
      "outputs": []
    },
    {
      "cell_type": "code",
      "metadata": {
        "colab": {
          "base_uri": "https://localhost:8080/",
          "height": 369
        },
        "id": "Wp2JNIsdwdal",
        "outputId": "097d0708-55cc-4ec7-ed5c-1b90e7b28d17"
      },
      "source": [
        "import seaborn as sns\n",
        "_ = sns.lmplot(x='sample size', y='time', data=time, ci=None, order=2)"
      ],
      "execution_count": null,
      "outputs": [
        {
          "output_type": "display_data",
          "data": {
            "image/png": "[encoded data removed]",
            "text/plain": [
              "<Figure size 360x360 with 1 Axes>"
            ]
          },
          "metadata": {
            "needs_background": "light"
          }
        }
      ]
    },
    {
      "cell_type": "code",
      "metadata": {
        "colab": {
          "base_uri": "https://localhost:8080/",
          "height": 1000
        },
        "id": "iFrC7QC6yT8e",
        "outputId": "2d894e11-abb5-4213-dac1-d0271728f73c"
      },
      "source": [
        "import time\n",
        "\n",
        "sample_size = [10**s for s in range(1, 6)]\n",
        "\n",
        "constant_times = []\n",
        "\n",
        "for s in sample_size:\n",
        "  X, y = make_blobs(\n",
        "    centers=3, n_samples=s, n_features=2, shuffle=True, random_state=95\n",
        ")\n",
        "  \n",
        "  tic = time.clock()\n",
        "  if __name__ == \"__main__\":   \n",
        "    k = KMeans(K=clusters, max_iters=77, plot_steps=False)\n",
        "    y_pred = k.predict(X)\n",
        "    k.plot()\n",
        "  toc = time.clock()\n",
        "  \n",
        "  constant_times.append(toc-tic)\n",
        "\n",
        "import pandas as pd\n",
        "time = pd.DataFrame(list(zip(sample_size, constant_times)), \n",
        "                    columns=['sample size', 'time'])\n",
        "display(time)\n",
        "\n",
        "import seaborn as sns\n",
        "_ = sns.lmplot(x='sample size', y='time', data=time, ci=None, order=2)"
      ],
      "execution_count": null,
      "outputs": [
        {
          "output_type": "stream",
          "name": "stderr",
          "text": [
            "/usr/local/lib/python3.7/dist-packages/ipykernel_launcher.py:12: DeprecationWarning: time.clock has been deprecated in Python 3.3 and will be removed from Python 3.8: use time.perf_counter or time.process_time instead\n",
            "  if sys.path[0] == '':\n"
          ]
        },
        {
          "output_type": "display_data",
          "data": {
            "image/png": "[encoded data removed]",
            "text/plain": [
              "<Figure size 432x288 with 1 Axes>"
            ]
          },
          "metadata": {
            "needs_background": "light"
          }
        },
        {
          "output_type": "stream",
          "name": "stderr",
          "text": [
            "/usr/local/lib/python3.7/dist-packages/ipykernel_launcher.py:17: DeprecationWarning: time.clock has been deprecated in Python 3.3 and will be removed from Python 3.8: use time.perf_counter or time.process_time instead\n"
          ]
        },
        {
          "output_type": "display_data",
          "data": {
            "image/png": "[encoded data removed]",
            "text/plain": [
              "<Figure size 432x288 with 1 Axes>"
            ]
          },
          "metadata": {
            "needs_background": "light"
          }
        },
        {
          "output_type": "display_data",
          "data": {
            "image/png": "[encoded data removed]",
            "text/plain": [
              "<Figure size 432x288 with 1 Axes>"
            ]
          },
          "metadata": {
            "needs_background": "light"
          }
        },
        {
          "output_type": "display_data",
          "data": {
            "image/png": "[encoded data removed]",
            "text/plain": [
              "<Figure size 432x288 with 1 Axes>"
            ]
          },
          "metadata": {
            "needs_background": "light"
          }
        },
        {
          "output_type": "display_data",
          "data": {
            "image/png": "[encoded data removed]",
            "text/plain": [
              "<Figure size 432x288 with 1 Axes>"
            ]
          },
          "metadata": {
            "needs_background": "light"
          }
        },
        {
          "output_type": "display_data",
          "data": {
            "text/html": [
              "<div>\n",
              "<style scoped>\n",
              "    .dataframe tbody tr th:only-of-type {\n",
              "        vertical-align: middle;\n",
              "    }\n",
              "\n",
              "    .dataframe tbody tr th {\n",
              "        vertical-align: top;\n",
              "    }\n",
              "\n",
              "    .dataframe thead th {\n",
              "        text-align: right;\n",
              "    }\n",
              "</style>\n",
              "<table border=\"1\" class=\"dataframe\">\n",
              "  <thead>\n",
              "    <tr style=\"text-align: right;\">\n",
              "      <th></th>\n",
              "      <th>sample size</th>\n",
              "      <th>time</th>\n",
              "    </tr>\n",
              "  </thead>\n",
              "  <tbody>\n",
              "    <tr>\n",
              "      <th>0</th>\n",
              "      <td>10</td>\n",
              "      <td>0.174620</td>\n",
              "    </tr>\n",
              "    <tr>\n",
              "      <th>1</th>\n",
              "      <td>100</td>\n",
              "      <td>0.258332</td>\n",
              "    </tr>\n",
              "    <tr>\n",
              "      <th>2</th>\n",
              "      <td>1000</td>\n",
              "      <td>0.375654</td>\n",
              "    </tr>\n",
              "    <tr>\n",
              "      <th>3</th>\n",
              "      <td>10000</td>\n",
              "      <td>2.719110</td>\n",
              "    </tr>\n",
              "    <tr>\n",
              "      <th>4</th>\n",
              "      <td>100000</td>\n",
              "      <td>393.108660</td>\n",
              "    </tr>\n",
              "  </tbody>\n",
              "</table>\n",
              "</div>"
            ],
            "text/plain": [
              "   sample size        time\n",
              "0           10    0.174620\n",
              "1          100    0.258332\n",
              "2         1000    0.375654\n",
              "3        10000    2.719110\n",
              "4       100000  393.108660"
            ]
          },
          "metadata": {}
        },
        {
          "output_type": "display_data",
          "data": {
            "image/png": "[encoded data removed]",
            "text/plain": [
              "<Figure size 360x360 with 1 Axes>"
            ]
          },
          "metadata": {
            "needs_background": "light"
          }
        }
      ]
    },
    {
      "cell_type": "markdown",
      "metadata": {
        "id": "F-RL2EihKqrL"
      },
      "source": [
        "##code"
      ]
    },
    {
      "cell_type": "code",
      "metadata": {
        "id": "nbrpIKn7v1Eh"
      },
      "source": [
        "import matplotlib.pyplot as plt\n",
        "import numpy as np\n",
        "\n",
        "# set the random to ensure same results\n",
        "np.random.seed(95)\n",
        "\n",
        "# define a function for calculating the euclidean distance\n",
        "def euclidean_distance(x1, x2):\n",
        "    return np.sqrt(np.sum((x1 - x2) ** 2))\n",
        "\n",
        "# implement KMeans class\n",
        "class KMeans:\n",
        "    def __init__(self, K, max_iters, plot_steps):\n",
        "        # store the attributes\n",
        "        self.K = K\n",
        "        self.max_iters = max_iters\n",
        "        self.plot_steps = plot_steps\n",
        "\n",
        "        # list of sample indices for each cluster\n",
        "        self.clusters = [[] for _ in range(self.K)]\n",
        "        # create empty centorids, this will become the mean feature vector for each cluser\n",
        "        self.centroids = []\n",
        "    \n",
        "    # implement the predict method\n",
        "    def predict(self, X):\n",
        "        # store the data\n",
        "        self.X = X\n",
        "        # store the dimensions\n",
        "        self.n_samples, self.n_features = X.shape\n",
        "\n",
        "        # initialise centroids\n",
        "        random_sample_idxs = np.random.choice(self.n_samples, self.K, replace=False)\n",
        "        # assign the corresponding sample to the centroids\n",
        "        self.centroids = [self.X[idx] for idx in random_sample_idxs]\n",
        "\n",
        "        # optimise clusters\n",
        "        for _ in range(self.max_iters):\n",
        "            # assign samples to closest centroids (create / update clusters)\n",
        "            self.clusters = self._create_clusters(self.centroids)\n",
        "            # plot the figure after updating the clusters\n",
        "            if self.plot_steps:\n",
        "                self.plot()\n",
        "\n",
        "            # calculate new centroids from the clusters\n",
        "            # store the centorids for convergence checking later\n",
        "            centroids_old = self.centroids\n",
        "            self.centroids = self._get_centroids(self.clusters)\n",
        "            # plot the fiugre after updating the centroids\n",
        "            if self.plot_steps:\n",
        "                self.plot()\n",
        "\n",
        "            # check if converged\n",
        "            if self._is_converged(centroids_old, self.centroids):\n",
        "                break\n",
        "        \n",
        "        # Classify samples as the index of their clusters\n",
        "        return self._get_cluster_labels(self.clusters)\n",
        "        \n",
        "    # define a function for getting the lables of each clusters\n",
        "    def _get_cluster_labels(self, clusters):\n",
        "        # each sample will get the label of the cluster it was assigned to\n",
        "        labels = np.empty(self.n_samples)\n",
        "        # iterate over the clusters\n",
        "        for cluster_idx, cluster in enumerate(clusters):\n",
        "            # iterate over the current clusters\n",
        "            for sample_index in cluster:\n",
        "                labels[sample_index] = cluster_idx\n",
        "        #print('labels: ', np.unique(labels))\n",
        "        #print('number of lables: ', len(np.unique(labels)))\n",
        "        return labels\n",
        "\n",
        "    # define a function for creating clusters\n",
        "    def _create_clusters(self, centroids):\n",
        "        # assign the samples to the closest centroids to create clusters\n",
        "        clusters = [[] for _ in range(self.K)]\n",
        "        # iterate over the data\n",
        "        for idx, sample in enumerate(self.X):\n",
        "            # get the closest centroid index\n",
        "            centroid_idx = self._closest_centroid(sample, centroids)\n",
        "            # append the current sample index to the closet cluster\n",
        "            clusters[centroid_idx].append(idx)\n",
        "        return clusters\n",
        "\n",
        "    # define the closest centroid function\n",
        "    def _closest_centroid(self, sample, centroids):\n",
        "        # calculate the distance of the current sample to each centroid\n",
        "        distances = [euclidean_distance(sample, point) for point in centroids]\n",
        "        # find the index with the minimum distence\n",
        "        closest_index = np.argmin(distances)\n",
        "        return closest_index\n",
        "    \n",
        "    # define a function for assigning mean value of clusters to centroids\n",
        "    def _get_centroids(self, clusters):\n",
        "        # initialise the centroids with zeros\n",
        "        centroids = np.zeros((self.K, self.n_features))\n",
        "        # iterate over the clusters\n",
        "        for cluster_idx, cluster in enumerate(clusters):\n",
        "            # calculate the cluster mean\n",
        "            cluster_mean = np.mean(self.X[cluster], axis=0)\n",
        "            # assign the mean to the current centroids\n",
        "            centroids[cluster_idx] = cluster_mean\n",
        "        return centroids\n",
        "    \n",
        "    # define a function for convergence checking\n",
        "    def _is_converged(self, centroids_old, centroids):\n",
        "        # calculate the distances between each old and new centroids, fol all centroids\n",
        "        distances = [\n",
        "            euclidean_distance(centroids_old[i], centroids[i]) for i in range(self.K)\n",
        "        ]\n",
        "        return sum(distances) == 0\n",
        "    \n",
        "    # define a function for visualisation\n",
        "    def plot(self):\n",
        "        # create the figure\n",
        "        fig, ax = plt.subplots()\n",
        "        # iterate over the clusters\n",
        "        for i, index in enumerate(self.clusters):\n",
        "            # get the current point\n",
        "            point = self.X[index].T\n",
        "            # scatter the points\n",
        "            ax.scatter(*point)\n",
        "        # plot all the centroids\n",
        "        for point in self.centroids:\n",
        "            ax.scatter(*point, marker=\"+\", color=\"c\", linewidth=3)\n",
        "\n",
        "        plt.show()"
      ],
      "execution_count": null,
      "outputs": []
    },
    {
      "cell_type": "markdown",
      "metadata": {
        "id": "2eHSD989wUMl"
      },
      "source": [
        "##Optional Task 5: Add a visualisation\n",
        "Identify a suitable library to depict both your inputs as well as the results of k-means clustering applied to those inputs.\n",
        "> Marking information: Up to 20 _bonus_ points: if you choose to complete this _optional_ task, you may be able to recover marks lost elsewhere."
      ]
    }
  ]
}